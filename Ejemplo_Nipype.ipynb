{
  "nbformat": 4,
  "nbformat_minor": 0,
  "metadata": {
    "colab": {
      "name": "Ejemplo Nipype",
      "provenance": [],
      "authorship_tag": "ABX9TyNjUjlj4V+bQm5Xtl2zndal",
      "include_colab_link": true
    },
    "kernelspec": {
      "name": "python3",
      "display_name": "Python 3"
    }
  },
  "cells": [
    {
      "cell_type": "markdown",
      "metadata": {
        "id": "view-in-github",
        "colab_type": "text"
      },
      "source": [
        "<a href=\"https://colab.research.google.com/github/LxMera/Pre-pipelines/blob/master/Ejemplo_Nipype.ipynb\" target=\"_parent\"><img src=\"https://colab.research.google.com/assets/colab-badge.svg\" alt=\"Open In Colab\"/></a>"
      ]
    },
    {
      "cell_type": "code",
      "metadata": {
        "id": "xxZJkx-nCHqu"
      },
      "source": [
        "!pip install nipype"
      ],
      "execution_count": null,
      "outputs": []
    },
    {
      "cell_type": "code",
      "metadata": {
        "id": "O4KsaJXZCUkH"
      },
      "source": [
        "from nipype.interfaces.fsl import (BET, ExtractROI, FAST, FLIRT, SliceTimer, Threshold, MELODIC, FilterRegressor)\n",
        "from nipype.algorithms.confounds import TCompCor\n",
        "from nipype.interfaces.utility import IdentityInterface\n",
        "from nipype.interfaces.io import SelectFiles, DataSink\n",
        "from nipype.algorithms.rapidart import ArtifactDetect\n",
        "from nipype import Workflow, Node, Function, MapNode"
      ],
      "execution_count": 2,
      "outputs": []
    },
    {
      "cell_type": "code",
      "metadata": {
        "id": "e-ljn6F6C7Mm",
        "outputId": "c9b2e948-455b-4b9d-debf-d6f74539b710",
        "colab": {
          "base_uri": "https://localhost:8080/",
          "height": 924
        }
      },
      "source": [
        "FLIRT.input_spec()"
      ],
      "execution_count": 8,
      "outputs": [
        {
          "output_type": "execute_result",
          "data": {
            "text/plain": [
              "\n",
              "angle_rep = <undefined>\n",
              "apply_isoxfm = <undefined>\n",
              "apply_xfm = <undefined>\n",
              "args = <undefined>\n",
              "bbrslope = <undefined>\n",
              "bbrtype = <undefined>\n",
              "bgvalue = <undefined>\n",
              "bins = <undefined>\n",
              "coarse_search = <undefined>\n",
              "cost = <undefined>\n",
              "cost_func = <undefined>\n",
              "datatype = <undefined>\n",
              "display_init = <undefined>\n",
              "dof = <undefined>\n",
              "echospacing = <undefined>\n",
              "environ = {}\n",
              "fieldmap = <undefined>\n",
              "fieldmapmask = <undefined>\n",
              "fine_search = <undefined>\n",
              "force_scaling = <undefined>\n",
              "in_file = <undefined>\n",
              "in_matrix_file = <undefined>\n",
              "in_weight = <undefined>\n",
              "interp = <undefined>\n",
              "min_sampling = <undefined>\n",
              "no_clamp = <undefined>\n",
              "no_resample = <undefined>\n",
              "no_resample_blur = <undefined>\n",
              "no_search = <undefined>\n",
              "out_file = <undefined>\n",
              "out_log = <undefined>\n",
              "out_matrix_file = <undefined>\n",
              "output_type = <undefined>\n",
              "padding_size = <undefined>\n",
              "pedir = <undefined>\n",
              "ref_weight = <undefined>\n",
              "reference = <undefined>\n",
              "rigid2D = <undefined>\n",
              "save_log = <undefined>\n",
              "schedule = <undefined>\n",
              "searchr_x = <undefined>\n",
              "searchr_y = <undefined>\n",
              "searchr_z = <undefined>\n",
              "sinc_width = <undefined>\n",
              "sinc_window = <undefined>\n",
              "uses_qform = <undefined>\n",
              "verbose = <undefined>\n",
              "wm_seg = <undefined>\n",
              "wmcoords = <undefined>\n",
              "wmnorms = <undefined>"
            ]
          },
          "metadata": {
            "tags": []
          },
          "execution_count": 8
        }
      ]
    },
    {
      "cell_type": "code",
      "metadata": {
        "id": "E2IytqrpFT8c",
        "outputId": "1c03b425-eae2-4848-b2a9-e85af30e2080",
        "colab": {
          "base_uri": "https://localhost:8080/",
          "height": 88
        }
      },
      "source": [
        "FLIRT.output_spec()"
      ],
      "execution_count": 9,
      "outputs": [
        {
          "output_type": "execute_result",
          "data": {
            "text/plain": [
              "\n",
              "out_file = <undefined>\n",
              "out_log = <undefined>\n",
              "out_matrix_file = <undefined>"
            ]
          },
          "metadata": {
            "tags": []
          },
          "execution_count": 9
        }
      ]
    },
    {
      "cell_type": "code",
      "metadata": {
        "id": "IuG5nSFtC0e-"
      },
      "source": [
        "ExtractROI.input_spec()"
      ],
      "execution_count": null,
      "outputs": []
    },
    {
      "cell_type": "code",
      "metadata": {
        "id": "61_S-I23FNHm"
      },
      "source": [
        "ExtractROI.output_spec()"
      ],
      "execution_count": null,
      "outputs": []
    },
    {
      "cell_type": "code",
      "metadata": {
        "id": "u5JoYa93C311"
      },
      "source": [
        "FAST.input_spec()"
      ],
      "execution_count": null,
      "outputs": []
    },
    {
      "cell_type": "code",
      "metadata": {
        "id": "vHQaRTGCFR18"
      },
      "source": [
        "FAST.output_spec()"
      ],
      "execution_count": null,
      "outputs": []
    },
    {
      "cell_type": "code",
      "metadata": {
        "id": "NzZKZ70KC8d-"
      },
      "source": [
        "SliceTimer.input_spec()"
      ],
      "execution_count": null,
      "outputs": []
    },
    {
      "cell_type": "code",
      "metadata": {
        "id": "7t5Tsp9vFgIf"
      },
      "source": [
        "SliceTimer.output_spec()"
      ],
      "execution_count": null,
      "outputs": []
    },
    {
      "cell_type": "code",
      "metadata": {
        "id": "v855PLt-C90_"
      },
      "source": [
        "Threshold.input_spec()"
      ],
      "execution_count": null,
      "outputs": []
    },
    {
      "cell_type": "code",
      "metadata": {
        "id": "QodagorNFVxb"
      },
      "source": [
        "Threshold.output_spec()"
      ],
      "execution_count": null,
      "outputs": []
    },
    {
      "cell_type": "code",
      "metadata": {
        "id": "NGPWBFjSC-xd"
      },
      "source": [
        "MELODIC.input_spec()"
      ],
      "execution_count": null,
      "outputs": []
    },
    {
      "cell_type": "code",
      "metadata": {
        "id": "UmoaCzSGFXd1"
      },
      "source": [
        "MELODIC.output_spec()"
      ],
      "execution_count": null,
      "outputs": []
    },
    {
      "cell_type": "code",
      "metadata": {
        "id": "s-vMe2LtClS2"
      },
      "source": [
        "FilterRegressor.input_spec()"
      ],
      "execution_count": null,
      "outputs": []
    },
    {
      "cell_type": "code",
      "metadata": {
        "id": "wJ0HV_M8FY2r"
      },
      "source": [
        "FilterRegressor.output_spec()"
      ],
      "execution_count": null,
      "outputs": []
    },
    {
      "cell_type": "code",
      "metadata": {
        "id": "YjyGhU5-CZ0N"
      },
      "source": [
        "BET.input_spec()"
      ],
      "execution_count": null,
      "outputs": []
    },
    {
      "cell_type": "code",
      "metadata": {
        "id": "EI_ONq7aFaTM"
      },
      "source": [
        "BET.output_spec()"
      ],
      "execution_count": null,
      "outputs": []
    },
    {
      "cell_type": "code",
      "metadata": {
        "id": "WAvCsLvvD3Lc"
      },
      "source": [
        "FLIRT.input_spec()"
      ],
      "execution_count": null,
      "outputs": []
    },
    {
      "cell_type": "code",
      "metadata": {
        "id": "T6DC65H1EEIc"
      },
      "source": [
        "FLIRT.output_spec()"
      ],
      "execution_count": null,
      "outputs": []
    }
  ]
}