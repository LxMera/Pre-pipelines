{
  "nbformat": 4,
  "nbformat_minor": 0,
  "metadata": {
    "colab": {
      "name": "Flujo_de_ejemplo.ipynb",
      "provenance": [],
      "authorship_tag": "ABX9TyPlBWnBDY1z38jzHqVzSKLe",
      "include_colab_link": true
    },
    "kernelspec": {
      "name": "python3",
      "display_name": "Python 3"
    }
  },
  "cells": [
    {
      "cell_type": "markdown",
      "metadata": {
        "id": "view-in-github",
        "colab_type": "text"
      },
      "source": [
        "<a href=\"https://colab.research.google.com/github/LxMera/Pre-pipelines/blob/master/Flujo_de_ejemplo.ipynb\" target=\"_parent\"><img src=\"https://colab.research.google.com/assets/colab-badge.svg\" alt=\"Open In Colab\"/></a>"
      ]
    },
    {
      "cell_type": "code",
      "metadata": {
        "id": "pI36gOICZFs0",
        "colab_type": "code",
        "colab": {}
      },
      "source": [
        "!pip install nipype"
      ],
      "execution_count": null,
      "outputs": []
    },
    {
      "cell_type": "markdown",
      "metadata": {
        "id": "uZnVBBX_Y4-W",
        "colab_type": "text"
      },
      "source": [
        "### Librerias"
      ]
    },
    {
      "cell_type": "code",
      "metadata": {
        "id": "mKyQ3qz9ZUTb",
        "colab_type": "code",
        "colab": {}
      },
      "source": [
        "from nipype import Workflow, Node, Function, MapNode\n",
        "from os.path import join as opj"
      ],
      "execution_count": 2,
      "outputs": []
    },
    {
      "cell_type": "markdown",
      "metadata": {
        "id": "4crKBb-oaPXJ",
        "colab_type": "text"
      },
      "source": [
        "### Funciones propias"
      ]
    },
    {
      "cell_type": "code",
      "metadata": {
        "id": "Lq9d-eOfZgQd",
        "colab_type": "code",
        "colab": {}
      },
      "source": [
        "def createScript():\n",
        "  import os\n",
        "  path_p=os.getcwd()\n",
        "  out_path=path_p+'/Reference.sh'\n",
        "  file = open(out_path, \"w\")\n",
        "  file.write('echo \"Running the bash script\"' + os.linesep)\n",
        "  file.close()\n",
        "  return out_path"
      ],
      "execution_count": 3,
      "outputs": []
    },
    {
      "cell_type": "code",
      "metadata": {
        "id": "L8JvoGsUeT3x",
        "colab_type": "code",
        "colab": {}
      },
      "source": [
        "def runExternalScript(in_path):\n",
        "  import subprocess\n",
        "  result = subprocess.check_output('bash '+in_path, shell=True)\n",
        "  print('\\033[92m')\n",
        "  print(result)\n",
        "  print('\\033[0m')"
      ],
      "execution_count": 4,
      "outputs": []
    },
    {
      "cell_type": "markdown",
      "metadata": {
        "id": "AIH_lHVwQVs2",
        "colab_type": "text"
      },
      "source": [
        "### Nodos del flujo"
      ]
    },
    {
      "cell_type": "code",
      "metadata": {
        "id": "QxoEJNNjY3nT",
        "colab_type": "code",
        "colab": {}
      },
      "source": [
        "Node1=Node(Function(input_names=[],\n",
        "                  output_names=['out_path'],\n",
        "                  function=createScript),\n",
        "         name='create_script')"
      ],
      "execution_count": 5,
      "outputs": []
    },
    {
      "cell_type": "code",
      "metadata": {
        "id": "AriiiI54hCYD",
        "colab_type": "code",
        "colab": {}
      },
      "source": [
        "Node2=Node(Function(input_names=['in_path'],\n",
        "                  output_names=[],\n",
        "                  function=runExternalScript),\n",
        "         name='run_external_script')"
      ],
      "execution_count": 6,
      "outputs": []
    },
    {
      "cell_type": "markdown",
      "metadata": {
        "id": "Tp9kJN91Qejt",
        "colab_type": "text"
      },
      "source": [
        "### Crear el flujo de trabajo"
      ]
    },
    {
      "cell_type": "code",
      "metadata": {
        "id": "PdhjBQTAijaf",
        "colab_type": "code",
        "colab": {}
      },
      "source": [
        "experiment_dir = '/content/' \n",
        "working_dir = 'workingdir'"
      ],
      "execution_count": 7,
      "outputs": []
    },
    {
      "cell_type": "code",
      "metadata": {
        "id": "H68oSqZmiKca",
        "colab_type": "code",
        "colab": {}
      },
      "source": [
        "flow=Workflow(name='pipeline_flow')\n",
        "flow.base_dir = opj(experiment_dir, working_dir)"
      ],
      "execution_count": 8,
      "outputs": []
    },
    {
      "cell_type": "markdown",
      "metadata": {
        "id": "RbFZzLyLQkiH",
        "colab_type": "text"
      },
      "source": [
        "### Conectar los nodos en el flujo creado"
      ]
    },
    {
      "cell_type": "code",
      "metadata": {
        "id": "hFshHerUipG-",
        "colab_type": "code",
        "colab": {}
      },
      "source": [
        "flow.connect([(Node1, Node2, [('out_path', 'in_path')])])"
      ],
      "execution_count": 9,
      "outputs": []
    },
    {
      "cell_type": "markdown",
      "metadata": {
        "id": "zUci-s41Qp6t",
        "colab_type": "text"
      },
      "source": [
        "### Ejecución del flujo"
      ]
    },
    {
      "cell_type": "code",
      "metadata": {
        "id": "UHaideIDkubz",
        "colab_type": "code",
        "colab": {
          "base_uri": "https://localhost:8080/",
          "height": 550
        },
        "outputId": "176fa758-e828-4a40-9564-69878e4b0643"
      },
      "source": [
        "flow.run('MultiProc', plugin_args={'n_procs': 4})"
      ],
      "execution_count": 10,
      "outputs": [
        {
          "output_type": "stream",
          "text": [
            "200826-19:34:26,888 nipype.workflow INFO:\n",
            "\t Workflow pipeline_flow settings: ['check', 'execution', 'logging', 'monitoring']\n",
            "200826-19:34:26,906 nipype.workflow INFO:\n",
            "\t Running in parallel.\n",
            "200826-19:34:26,936 nipype.workflow INFO:\n",
            "\t [MultiProc] Running 0 tasks, and 1 jobs ready. Free memory (GB): 11.44/11.44, Free processors: 4/4.\n",
            "200826-19:34:27,27 nipype.workflow INFO:\n",
            "\t [Node] Setting-up \"pipeline_flow.create_script\" in \"/content/workingdir/pipeline_flow/create_script\".\n",
            "200826-19:34:27,40 nipype.workflow INFO:\n",
            "\t [Node] Running \"create_script\" (\"nipype.interfaces.utility.wrappers.Function\")\n",
            "200826-19:34:27,65 nipype.workflow INFO:\n",
            "\t [Node] Finished \"pipeline_flow.create_script\".\n",
            "200826-19:34:28,913 nipype.workflow INFO:\n",
            "\t [Job 0] Completed (pipeline_flow.create_script).\n",
            "200826-19:34:28,917 nipype.workflow INFO:\n",
            "\t [MultiProc] Running 0 tasks, and 1 jobs ready. Free memory (GB): 11.44/11.44, Free processors: 4/4.\n",
            "200826-19:34:28,977 nipype.workflow INFO:\n",
            "\t [Node] Setting-up \"pipeline_flow.run_external_script\" in \"/content/workingdir/pipeline_flow/run_external_script\".\n",
            "200826-19:34:28,993 nipype.workflow INFO:\n",
            "\t [Node] Running \"run_external_script\" (\"nipype.interfaces.utility.wrappers.Function\")\n",
            "\u001b[92m\n",
            "b'Running the bash script\\n'\n",
            "\u001b[0m\n",
            "200826-19:34:29,43 nipype.workflow INFO:\n",
            "\t [Node] Finished \"pipeline_flow.run_external_script\".\n",
            "200826-19:34:30,915 nipype.workflow INFO:\n",
            "\t [Job 1] Completed (pipeline_flow.run_external_script).\n",
            "200826-19:34:30,918 nipype.workflow INFO:\n",
            "\t [MultiProc] Running 0 tasks, and 0 jobs ready. Free memory (GB): 11.44/11.44, Free processors: 4/4.\n"
          ],
          "name": "stdout"
        },
        {
          "output_type": "execute_result",
          "data": {
            "text/plain": [
              "<networkx.classes.digraph.DiGraph at 0x7f1ae6f2bef0>"
            ]
          },
          "metadata": {
            "tags": []
          },
          "execution_count": 10
        }
      ]
    },
    {
      "cell_type": "markdown",
      "metadata": {
        "id": "HIBfRJbOQttD",
        "colab_type": "text"
      },
      "source": [
        "### Crear un diagrama del flujo completo"
      ]
    },
    {
      "cell_type": "code",
      "metadata": {
        "id": "Mi-QQ06iK6i3",
        "colab_type": "code",
        "colab": {
          "base_uri": "https://localhost:8080/",
          "height": 71
        },
        "outputId": "6d7dd1b2-0d0e-4dfc-c4c1-7d2814782a29"
      },
      "source": [
        "flow.write_graph(graph2use='colored', format='svg', simple_form=True)"
      ],
      "execution_count": 11,
      "outputs": [
        {
          "output_type": "stream",
          "text": [
            "200826-19:34:33,322 nipype.workflow INFO:\n",
            "\t Generated workflow graph: /content/workingdir/pipeline_flow/graph.svg (graph2use=colored, simple_form=True).\n"
          ],
          "name": "stdout"
        },
        {
          "output_type": "execute_result",
          "data": {
            "application/vnd.google.colaboratory.intrinsic+json": {
              "type": "string"
            },
            "text/plain": [
              "'/content/workingdir/pipeline_flow/graph.svg'"
            ]
          },
          "metadata": {
            "tags": []
          },
          "execution_count": 11
        }
      ]
    }
  ]
}